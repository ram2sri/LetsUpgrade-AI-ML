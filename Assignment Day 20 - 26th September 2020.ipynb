{
 "cells": [
  {
   "cell_type": "markdown",
   "metadata": {},
   "source": [
    "### Question 1: Anova"
   ]
  },
  {
   "cell_type": "markdown",
   "metadata": {},
   "source": [
    "Three archers – Pat, Jack, and Alex are participating in an archery contest. They are shooting at\n",
    "targets with 10 evenly spaced concentric rings. The rings have score values from 1 through 10\n",
    "assigned to them, with 10 being the highest. Each participant shoots 6 arrow, scoring the\n",
    "following points:\n",
    "* Pat(P) – 5, 4, 4, 3, 9, 4\n",
    "* Jack(J) – 4, 8, 7, 5, 1, 5\n",
    "* Alex(A) – 9, 9, 8, 10, 4, 10\n",
    "Based on the above results we would like to know who the best archer is. In other words our null\n",
    "hypothesis is that the means of all populations are equal."
   ]
  },
  {
   "cell_type": "code",
   "execution_count": 1,
   "metadata": {},
   "outputs": [],
   "source": [
    "P = [5, 4, 4, 3, 9, 4]\n",
    "J = [4, 8, 7, 5, 1, 5]\n",
    "A = [9, 9, 8, 10, 4,10]"
   ]
  },
  {
   "cell_type": "code",
   "execution_count": 2,
   "metadata": {},
   "outputs": [
    {
     "name": "stdout",
     "output_type": "stream",
     "text": [
      "4.4882729211087415\n",
      "0.029667763955533364\n"
     ]
    }
   ],
   "source": [
    "from scipy import stats\n",
    "F,p = stats.f_oneway(P,J,A)\n",
    "print(F)\n",
    "print(p)"
   ]
  },
  {
   "cell_type": "markdown",
   "metadata": {},
   "source": [
    "### As we can see the value of p is lesser than 0.05, therby we reject the null Hypothesis(All archers are same). and accept alternate Hypothesis(All archers performed differently)"
   ]
  },
  {
   "cell_type": "code",
   "execution_count": 3,
   "metadata": {},
   "outputs": [
    {
     "name": "stdout",
     "output_type": "stream",
     "text": [
      "0.01577287066246057\n",
      "0.9025454427958635\n"
     ]
    }
   ],
   "source": [
    "from scipy import stats\n",
    "F,p = stats.f_oneway(P,J)\n",
    "print(F)\n",
    "print(p)\n",
    "# Here p is high,so we accept the null hypothesis(Both are equal)"
   ]
  },
  {
   "cell_type": "code",
   "execution_count": 4,
   "metadata": {},
   "outputs": [
    {
     "name": "stdout",
     "output_type": "stream",
     "text": [
      "6.024096385542171\n",
      "0.034000591615399665\n"
     ]
    }
   ],
   "source": [
    "from scipy import stats\n",
    "F,p = stats.f_oneway(J,A)\n",
    "print(F)\n",
    "print(p)\n",
    "# Here p is less than 0.05,so we do not accept the null hypothesis(Both are equal) & accept alternate hypothesis(A is better)"
   ]
  },
  {
   "cell_type": "code",
   "execution_count": 5,
   "metadata": {},
   "outputs": [
    {
     "name": "stdout",
     "output_type": "stream",
     "text": [
      "7.629757785467127\n",
      "0.020053884079230942\n"
     ]
    }
   ],
   "source": [
    "from scipy import stats\n",
    "F,p = stats.f_oneway(P,A)\n",
    "print(F)\n",
    "print(p)\n",
    "# Here p is less than 0.05,so we do not accept the null hypothesis(Both are equal) & accept alternate hypothesis(A is better)"
   ]
  },
  {
   "cell_type": "markdown",
   "metadata": {},
   "source": [
    "### Therefore, We can say that A is better among the 3 Archers"
   ]
  },
  {
   "cell_type": "code",
   "execution_count": null,
   "metadata": {},
   "outputs": [],
   "source": []
  }
 ],
 "metadata": {
  "kernelspec": {
   "display_name": "Python 3",
   "language": "python",
   "name": "python3"
  },
  "language_info": {
   "codemirror_mode": {
    "name": "ipython",
    "version": 3
   },
   "file_extension": ".py",
   "mimetype": "text/x-python",
   "name": "python",
   "nbconvert_exporter": "python",
   "pygments_lexer": "ipython3",
   "version": "3.8.3"
  }
 },
 "nbformat": 4,
 "nbformat_minor": 4
}
